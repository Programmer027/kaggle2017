{
 "cells": [
  {
   "cell_type": "markdown",
   "metadata": {},
   "source": [
    "### The highest private LB script (#13) on the forum, by tks.  This makes me feel very silly indeed, as it performs  no feature engineering and yet does very well!  \n",
    "\n",
    "### tks took a real gamble working on an approach that had a bad public LB score, and it paid off."
   ]
  },
  {
   "cell_type": "code",
   "execution_count": 1,
   "metadata": {
    "collapsed": false
   },
   "outputs": [
    {
     "name": "stdout",
     "output_type": "stream",
     "text": [
      "-0.312268736988\n",
      "-0.186031887008\n",
      "-0.162717352616\n",
      "0.00486516087517\n",
      "-0.119639391389\n",
      "-0.169665408\n",
      "-0.183694318891\n",
      "-0.314360678298\n",
      "-0.00499440747557\n",
      "{'public_score': 0.028008661473639181}\n"
     ]
    }
   ],
   "source": [
    "import kagglegym\n",
    "import numpy as np\n",
    "import pandas as pd\n",
    "import xgboost as xgb\n",
    "\n",
    "env = kagglegym.make()\n",
    "o = env.reset()\n",
    "\n",
    "excl = ['id', 'sample', 'y', 'timestamp']\n",
    "cols = [c for c in o.train.columns if c not in excl]\n",
    "\n",
    "roll_std = o.train.groupby('timestamp').y.mean().rolling(window=10).std().fillna(0)\n",
    "train_idx = o.train.timestamp.isin(roll_std[roll_std < 0.009].index)\n",
    "\n",
    "y_train = o.train['y'][train_idx]\n",
    "xgmat_train = xgb.DMatrix(o.train.loc[train_idx, cols], label=y_train)\n",
    "\n",
    "# exp070\n",
    "params_xgb = {'objective'        : 'reg:linear',\n",
    "              'tree_method'      : 'hist',\n",
    "              'grow_policy'      : 'depthwise',\n",
    "              'eta'              : 0.05,\n",
    "              'subsample'        : 0.6,\n",
    "              'max_depth'        : 10,\n",
    "              'min_child_weight' : y_train.size/2000,\n",
    "              'colsample_bytree' : 1, \n",
    "              'base_score'       : y_train.mean(),\n",
    "              'silent'           : True,\n",
    "}\n",
    "n_round = 16\n",
    "\n",
    "bst_lst = []\n",
    "for i in range(8):\n",
    "    params_xgb['seed'] = 2429 + 513 * i\n",
    "    bst_lst.append(xgb.train(params_xgb,\n",
    "                             xgmat_train,\n",
    "                             num_boost_round=n_round,\n",
    "                             # __copy__ reduce memory consumption?\n",
    "                             verbose_eval=False).__copy__())\n",
    "\n",
    "while True:\n",
    "    pr_lst = []\n",
    "    xgmat_test = xgb.DMatrix(o.features[cols])\n",
    "    for bst in bst_lst:\n",
    "        pr_lst.append(bst.predict(xgmat_test))\n",
    "\n",
    "    pred = o.target\n",
    "    pred['y'] = np.array(pr_lst).mean(0)\n",
    "    o, reward, done, info = env.step(pred)\n",
    "    if done:\n",
    "        print(info)\n",
    "        break\n",
    "    if o.features.timestamp[0] % 100 == 0:\n",
    "        print(reward)\n"
   ]
  },
  {
   "cell_type": "code",
   "execution_count": null,
   "metadata": {
    "collapsed": true
   },
   "outputs": [],
   "source": []
  }
 ],
 "metadata": {
  "kernelspec": {
   "display_name": "Python 3",
   "language": "python",
   "name": "python3"
  },
  "language_info": {
   "codemirror_mode": {
    "name": "ipython",
    "version": 3
   },
   "file_extension": ".py",
   "mimetype": "text/x-python",
   "name": "python",
   "nbconvert_exporter": "python",
   "pygments_lexer": "ipython3",
   "version": "3.6.0"
  }
 },
 "nbformat": 4,
 "nbformat_minor": 2
}
