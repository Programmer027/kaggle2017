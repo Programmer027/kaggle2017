{
 "cells": [
  {
   "cell_type": "markdown",
   "metadata": {},
   "source": [
    "### This is my shortened version of sdfoley/sdf1's nice simple script.  I was very impressed by it's simplicity, and decided to play code golf with it :)"
   ]
  },
  {
   "cell_type": "code",
   "execution_count": 1,
   "metadata": {
    "collapsed": false
   },
   "outputs": [
    {
     "name": "stdout",
     "output_type": "stream",
     "text": [
      "{'public_score': 0.026839613259479755}\n"
     ]
    }
   ],
   "source": [
    "from collections import deque\n",
    "from sklearn.linear_model import Ridge\n",
    "from sklearn.linear_model import SGDRegressor\n",
    "from sklearn.preprocessing import MinMaxScaler\n",
    "import kagglegym\n",
    "import numpy as np\n",
    "import pandas as pd\n",
    "import random\n",
    "import math\n",
    "\n",
    "random.seed(a=52)\n",
    "\n",
    "class Model:\n",
    "\n",
    "    def __init__(self, df, model):\n",
    "\n",
    "        self.cols = ['technical_20', 'technical_30']\n",
    "        self.scale = MinMaxScaler()\n",
    "        \n",
    "        self.regr = model\n",
    "\n",
    "        df_cols = df[self.cols]\n",
    "        self.means = df_cols.mean()\n",
    "        \n",
    "        df_cols = df_cols.fillna(self.means)\n",
    "        x = self.scale.fit_transform(df_cols.values)\n",
    "\n",
    "        self.regr.fit(x, df.y.values)\n",
    "\n",
    "    # ------------------------------\n",
    "\n",
    "    def predict(self, df):\n",
    "        df_cut = df[self.cols].fillna(self.means)\n",
    "        \n",
    "        x = self.scale.transform(df_cut.values)\n",
    "        \n",
    "        return self.regr.predict(x)\n",
    "\n",
    "env = kagglegym.make()\n",
    "observation = env.reset()\n",
    "\n",
    "train = observation.train\n",
    "\n",
    "# build dataframe with volatility for each day\n",
    "\n",
    "df = train[['timestamp', 'y', 'technical_20', 'technical_30']].copy()\n",
    "\n",
    "grouped = df.groupby('timestamp')\n",
    "\n",
    "stdgroup = grouped[['technical_20', 'technical_30']].std()\n",
    "stdgroup_mean = stdgroup.rolling(window=3, win_type='triang').mean().mean(axis=1)\n",
    "\n",
    "df_vol = pd.DataFrame({'vol': stdgroup_mean}, index=stdgroup.index)\n",
    "\n",
    "regressors = [(SGDRegressor(loss = 'epsilon_insensitive', fit_intercept = False, random_state = 52), [-math.inf, 33]),\n",
    "              (SGDRegressor(loss = 'huber', fit_intercept = False, random_state = 52), [33, 66]),\n",
    "              (Ridge(alpha = 200, random_state = 52), [66, math.inf])]\n",
    "\n",
    "models = []\n",
    "\n",
    "for reg, rawlimits in regressors:\n",
    "    limits = [0, 0]\n",
    "    limits[0] = np.nanpercentile(df_vol.vol, rawlimits[0]) if not (np.isinf(rawlimits[0])) else rawlimits[0]\n",
    "    limits[1] = np.nanpercentile(df_vol.vol, rawlimits[1]) if not (np.isinf(rawlimits[1])) else rawlimits[1]\n",
    "    \n",
    "    subset = (df_vol.vol > limits[0]) & (df_vol.vol <= limits[1])\n",
    "\n",
    "    df_subset = train.loc[train.timestamp.isin(df_vol[subset].index)]\n",
    "    \n",
    "    models.append((Model(df_subset, reg), limits.copy()))\n",
    "\n",
    "vol = deque([0, 0, 0], 3)\n",
    "\n",
    "while True:\n",
    "    df = observation.features\n",
    "    target = observation.target\n",
    "    \n",
    "    vol.append((df.technical_20.std() + df.technical_30.std()) / 2)\n",
    "    curvol = sum(vol) / len(vol)\n",
    "    \n",
    "    for model, bounds in models:\n",
    "        if curvol > bounds[0] and curvol <= bounds[1]:\n",
    "            target.y = model.predict(df)\n",
    "            break\n",
    "            \n",
    "    observation, reward, done, info = env.step(target)\n",
    "    \n",
    "    if done:\n",
    "        break\n",
    "\n",
    "print(info)"
   ]
  },
  {
   "cell_type": "code",
   "execution_count": null,
   "metadata": {
    "collapsed": true
   },
   "outputs": [],
   "source": []
  }
 ],
 "metadata": {
  "kernelspec": {
   "display_name": "Python 3",
   "language": "python",
   "name": "python3"
  },
  "language_info": {
   "codemirror_mode": {
    "name": "ipython",
    "version": 3
   },
   "file_extension": ".py",
   "mimetype": "text/x-python",
   "name": "python",
   "nbconvert_exporter": "python",
   "pygments_lexer": "ipython3",
   "version": "3.6.0"
  }
 },
 "nbformat": 4,
 "nbformat_minor": 2
}
